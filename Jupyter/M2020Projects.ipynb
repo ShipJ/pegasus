{
 "cells": [
  {
   "cell_type": "markdown",
   "metadata": {},
   "source": [
    "### Money 20/20 Delegate Targeting Project\n",
    "##### Jack Shipway, 2018\n",
    "</br>\n",
    "##### Objectives\n",
    "###### Early February 2018\n",
    "___\n",
    "1. To produce a predictive *Likelihood of Attendance* model that, based on a range of pre-defined inputs, predicts the probability of an existing delegate attending China\n",
    "  * This part of the project takes *all* of the data we have of people that we know about across events, producing a ranking of people in the order of their likelihood to attend China. This can be used by the marketing/sales team as an indicator of where to focus their efforts: who to target first/last.\n",
    "2. To produce a *Lookalike Profile*, that best defines an ideal delegate. Demographic, financial and behavioural data will all be inclided in the model.\n",
    "  * This part is heavily dependent on the first part, but essentially drills into the top Nth percentile of delegates. I.e, of those most likely to attend, what did they all have in common? What do they have that differs from those unlikely to attend?\n",
    "3. To automate the process, standardise the inputs and outputs, and demonstrate project repeatability across different Brands\n",
    "  * To prove the value within Money 20/20, and roll out similar processes across brands under the same guise/technology/processes.\n",
    "\n",
    "\n",
    "\n",
    "\n"
   ]
  },
  {
   "cell_type": "markdown",
   "metadata": {},
   "source": [
    "</br>\n",
    "##### Whiteboarding session with Chris, and follow-up with Neil\n",
    "###### February 12th 2018\n",
    "___\n",
    "We discussed and defined a range of metrics thought to be potential predictive factors. These include the following: \n",
    "\n",
    "1. Demographics \n",
    "  * City/Country\n",
    "  * Job Title/Role/Group/Function/Seniority\n",
    "  * Company Type/Sector/Size, Domestic/International presence\n",
    "2. Ticketing/Financial\n",
    "  * Cost of Ticket, Number purchased, Discounted?\n",
    "  * Registration Date (days pre-event)\n",
    "  * Ticket type - delegate, speaker, sponsor\n",
    "3. Event Particulars\n",
    "  * Events Attended, Multi-show? Multi-Continent?\n",
    "  * Seminars attended, China/globalisation related (2017 only)\n",
    "4. Others\n",
    "  * Colleague Attendance\n",
    "  * NPS\n",
    "  * Account was a Sponsor\n",
    "  * Switched Company, but still attended\n",
    "\n",
    "\n",
    "\n"
   ]
  },
  {
   "cell_type": "markdown",
   "metadata": {},
   "source": [
    "</br>\n",
    "##### First Meeting with Therese\n",
    "###### February 14th 2018\n",
    "___\n",
    "I came to this session armed with specific technical questions, as well as some general questions about logistics and how to operate. Some are below:\n",
    "\n",
    "Q. What distinguishes China from the USA/Europe? Why would someone who typically attends Money 20/20 USA/Europe, think about attending China? </br>\n",
    "A. It was clarified that the reasons for attending China concern anything regarding doing Business in China. Such as networking with the local FinTech community, attending seminars and learning. \n",
    "\n",
    "Q. Why would this approach help?\n",
    "A. Firstly, it would help us be a more *data-driven* organisation. It has been suggested that spamming delegates can have an adverse effect - people actually disengage, unsubscribe etc. Is this true?\n",
    "\n",
    "Q. What are some current approaches?\n",
    "A. Generally just try and target as many people as possible (mass-emailing). Unless of course there are specific comms going out, i.e. European delegates might be sent something specific about Europe but in general it's about hitting as many people as possible. \n",
    "\n",
    "Q. Do you agree with the project proposal - i.e. the 3 points above? We will go away and write a structured proposal, laying out various time-frames of data cleansing, modelling and \n",
    "A. \n",
    "\n",
    "Q. What is the most effective way to work? </br>\n",
    "A. Weekly updates and sharing of data/dashboards/ideas on a 'when it's relevant' basis. "
   ]
  },
  {
   "cell_type": "markdown",
   "metadata": {},
   "source": [
    "</br>\n",
    "##### Defining a Workflow\n",
    "###### February 14th - 21st\n",
    "___\n",
    "In the points below, I outline key milestones typical of a data analysis project, that I wish to hit by the target date. I have excluded *Data Visualisation* and *Testing* as I believe them to be ongoing processes that will be intertwined throughout each stage. \n",
    "\n",
    "1. Data Sourcing & Extraction (1w-2w, Fri 23rd Feb)\n",
    "  * Ideally I would like to see a *Universe* of People that we know of, a mapping to a list of Delegates, and all of the events that they have either attended or have registered to attend. I would like all of the features discussed above, as well as Marketo related metrics such as open rate. \n",
    "2. Data Processing (3d-1w, Fri 2nd Mar) \n",
    "  * I would rather use a subset of complete data than the entire set of data with missing fields. It does not matter too much about missing certain delegates, general data issues, it is more a case of having the best possible, clean data for the people I am able to match across all sources. \n",
    "3. Preliminary Analysis (1w-2w, Fri 16th Mar)\n",
    "  * \n",
    "4. Derive Features (1-2w, Fri 30th Mar)\n",
    "5. Modelling Layer (1-2w, Early/Mid Apr)\n",
    "6. Testing (Ongoing)\n",
    "7. Visualisation (Ongoing)"
   ]
  },
  {
   "cell_type": "markdown",
   "metadata": {},
   "source": [
    "</br>\n",
    "##### 1. Data Sourcing & Extraction\n",
    "###### February 15th - 21st\n",
    "___\n",
    "After the last meeting, I set out to source as much information about existing delegates as possible - where the data is, and how best to extract it. I explained that there would be some difficulties in joining the data together - particularly as USA/Europe/China Salesforce data are all stored in separate databases. Marketo is quite straightforward, but different companies were responsible for collecting registration data (Lenos vs. Event1), which leads to different data being collected, with different fields and in different formats. </p> Lorna created an excellent table for USA delegates (2014 onwards), which links nicely to a delegate pass and an Opportunity ID. I have tried to replicate this same table for USA 2012-13 data, Europe 2016-18, and Asia. I am not aware of any existing Salesforce DBs covering China delegates.\n",
    "\n",
    "\n",
    "\n",
    "\n"
   ]
  },
  {
   "cell_type": "code",
   "execution_count": null,
   "metadata": {},
   "outputs": [],
   "source": []
  }
 ],
 "metadata": {
  "kernelspec": {
   "display_name": "Python 2",
   "language": "python",
   "name": "python2"
  },
  "language_info": {
   "codemirror_mode": {
    "name": "ipython",
    "version": 2
   },
   "file_extension": ".py",
   "mimetype": "text/x-python",
   "name": "python",
   "nbconvert_exporter": "python",
   "pygments_lexer": "ipython2",
   "version": "2.7.13"
  }
 },
 "nbformat": 4,
 "nbformat_minor": 2
}
